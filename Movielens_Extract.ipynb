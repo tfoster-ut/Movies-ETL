{
  "nbformat": 4,
  "nbformat_minor": 0,
  "metadata": {
    "colab": {
      "name": "Movielens_Extract.ipynb",
      "provenance": [],
      "collapsed_sections": []
    },
    "kernelspec": {
      "name": "python3",
      "display_name": "Python 3"
    }
  },
  "cells": [
    {
      "cell_type": "code",
      "metadata": {
        "id": "hdW-OylG42I3",
        "colab_type": "code",
        "colab": {}
      },
      "source": [
        "# Import dependencies\n",
        "import pandas as pd\n",
        "import numpy as np\n",
        "import json\n"
      ],
      "execution_count": 3,
      "outputs": []
    },
    {
      "cell_type": "code",
      "metadata": {
        "id": "ntP1mgIb5ItT",
        "colab_type": "code",
        "colab": {}
      },
      "source": [
        "file_dir = '/content/drive/My Drive/Colab Notebooks/ETL/'"
      ],
      "execution_count": 7,
      "outputs": []
    },
    {
      "cell_type": "code",
      "metadata": {
        "id": "QG9hq1zJ5XfE",
        "colab_type": "code",
        "colab": {}
      },
      "source": [
        "# Create a list of dicts from the JSON file.\n",
        "with open(f'{file_dir}/wikipedia-movies.json', mode='r') as file:\n",
        "    wiki_movies_raw = json.load(file)"
      ],
      "execution_count": 8,
      "outputs": []
    },
    {
      "cell_type": "code",
      "metadata": {
        "id": "IR07yPrF6GdD",
        "colab_type": "code",
        "colab": {
          "base_uri": "https://localhost:8080/",
          "height": 33
        },
        "outputId": "74333a29-9adf-4ec5-d33b-86a6e3354550"
      },
      "source": [
        "# Check the length of the file\n",
        "len(wiki_movies_raw)"
      ],
      "execution_count": 9,
      "outputs": [
        {
          "output_type": "execute_result",
          "data": {
            "text/plain": [
              "7311"
            ]
          },
          "metadata": {
            "tags": []
          },
          "execution_count": 9
        }
      ]
    },
    {
      "cell_type": "code",
      "metadata": {
        "id": "mNLKAJ_C7LPk",
        "colab_type": "code",
        "colab": {}
      },
      "source": [
        "# First 5 records\n",
        "wiki_movies_raw[:5]"
      ],
      "execution_count": null,
      "outputs": []
    },
    {
      "cell_type": "code",
      "metadata": {
        "id": "M0leH5Xv707b",
        "colab_type": "code",
        "colab": {}
      },
      "source": [
        "# Last 5 rows\n",
        "wiki_movies_raw[-5:]"
      ],
      "execution_count": null,
      "outputs": []
    },
    {
      "cell_type": "code",
      "metadata": {
        "id": "Vj_Bqr2D8fMX",
        "colab_type": "code",
        "colab": {}
      },
      "source": [
        "# Some records in the middle\n",
        "wiki_movies_raw[3600:3605]"
      ],
      "execution_count": null,
      "outputs": []
    },
    {
      "cell_type": "code",
      "metadata": {
        "id": "nHfhGxrG8tsh",
        "colab_type": "code",
        "colab": {
          "base_uri": "https://localhost:8080/",
          "height": 70
        },
        "outputId": "5f8271ff-49c1-4d75-a4cc-0e79d4cf1a87"
      },
      "source": [
        "# Read the movies_metadata and ratings files\n",
        "kaggle_metadata = pd.read_csv(f'{file_dir}movies_metadata.csv')\n",
        "ratings = pd.read_csv(f'{file_dir}ratings.csv')"
      ],
      "execution_count": 14,
      "outputs": [
        {
          "output_type": "stream",
          "text": [
            "/usr/local/lib/python3.6/dist-packages/IPython/core/interactiveshell.py:2718: DtypeWarning: Columns (10) have mixed types.Specify dtype option on import or set low_memory=False.\n",
            "  interactivity=interactivity, compiler=compiler, result=result)\n"
          ],
          "name": "stderr"
        }
      ]
    },
    {
      "cell_type": "code",
      "metadata": {
        "id": "SoMt6sw2QSGa",
        "colab_type": "code",
        "colab": {}
      },
      "source": [
        "# Sample and file review\n",
        "kaggle_metadata.sample(10)"
      ],
      "execution_count": null,
      "outputs": []
    },
    {
      "cell_type": "code",
      "metadata": {
        "id": "CNQPhXtpQdPF",
        "colab_type": "code",
        "colab": {}
      },
      "source": [
        ""
      ],
      "execution_count": null,
      "outputs": []
    }
  ]
}